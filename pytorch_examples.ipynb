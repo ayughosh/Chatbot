{
 "cells": [
  {
   "cell_type": "code",
   "execution_count": 18,
   "id": "11fc3fdf-8fdc-4b27-87bf-cbb8a90ca6c1",
   "metadata": {},
   "outputs": [
    {
     "name": "stdout",
     "output_type": "stream",
     "text": [
      "cuda\n"
     ]
    }
   ],
   "source": [
    "import torch\n",
    "import numpy as np\n",
    "import torch.nn as nn\n",
    "import time\n",
    "device='cuda' if torch.cuda.is_available() else 'cpu'\n",
    "print(device)"
   ]
  },
  {
   "cell_type": "code",
   "execution_count": 2,
   "id": "543f5111-5820-479f-99a2-5987a34a9796",
   "metadata": {},
   "outputs": [
    {
     "data": {
      "text/plain": [
       "tensor([-97, -88, -42,   8, -40,  88])"
      ]
     },
     "execution_count": 2,
     "metadata": {},
     "output_type": "execute_result"
    }
   ],
   "source": [
    "randint=torch.randint(-100,100,(6,))\n",
    "randint"
   ]
  },
  {
   "cell_type": "code",
   "execution_count": 3,
   "id": "43a45711-c48e-43e3-ba3f-36b7d06d5c01",
   "metadata": {},
   "outputs": [
    {
     "data": {
      "text/plain": [
       "tensor([[0.1000, 1.2000],\n",
       "        [2.2000, 3.1000],\n",
       "        [4.9000, 5.2000]])"
      ]
     },
     "execution_count": 3,
     "metadata": {},
     "output_type": "execute_result"
    }
   ],
   "source": [
    "tensor=torch.tensor([[0.1,1.2],[2.2,3.1],[4.9,5.2]])\n",
    "tensor"
   ]
  },
  {
   "cell_type": "code",
   "execution_count": 4,
   "id": "0d8504a1-1b38-49ac-88b2-3168306cbf36",
   "metadata": {},
   "outputs": [
    {
     "data": {
      "text/plain": [
       "tensor([[0., 0., 0.],\n",
       "        [0., 0., 0.]])"
      ]
     },
     "execution_count": 4,
     "metadata": {},
     "output_type": "execute_result"
    }
   ],
   "source": [
    "zeros=torch.zeros(2,3)\n",
    "zeros"
   ]
  },
  {
   "cell_type": "code",
   "execution_count": 5,
   "id": "a32c2b08-c1d0-4ce6-af2b-1b6a76275b28",
   "metadata": {},
   "outputs": [
    {
     "data": {
      "text/plain": [
       "tensor([[1., 1., 1.],\n",
       "        [1., 1., 1.]])"
      ]
     },
     "execution_count": 5,
     "metadata": {},
     "output_type": "execute_result"
    }
   ],
   "source": [
    "ones=torch.ones(2,3)\n",
    "ones"
   ]
  },
  {
   "cell_type": "code",
   "execution_count": 6,
   "id": "a9b09e2e-a823-4057-b8d0-93726d94c08b",
   "metadata": {},
   "outputs": [
    {
     "data": {
      "text/plain": [
       "tensor([[6.2119e-33, 1.8371e-42, 0.0000e+00],\n",
       "        [0.0000e+00, 0.0000e+00, 0.0000e+00]])"
      ]
     },
     "execution_count": 6,
     "metadata": {},
     "output_type": "execute_result"
    }
   ],
   "source": [
    "input=torch.empty(2,3)\n",
    "input"
   ]
  },
  {
   "cell_type": "code",
   "execution_count": 7,
   "id": "48d7edd9-10cc-4d9b-8577-60d39c3b4af8",
   "metadata": {},
   "outputs": [
    {
     "data": {
      "text/plain": [
       "tensor([0, 1, 2, 3, 4])"
      ]
     },
     "execution_count": 7,
     "metadata": {},
     "output_type": "execute_result"
    }
   ],
   "source": [
    "arange=torch.arange(5)\n",
    "arange"
   ]
  },
  {
   "cell_type": "code",
   "execution_count": 8,
   "id": "a5971876-8c33-4290-924e-6e3b23e8e27e",
   "metadata": {},
   "outputs": [
    {
     "data": {
      "text/plain": [
       "tensor([ 3.0000,  4.7500,  6.5000,  8.2500, 10.0000])"
      ]
     },
     "execution_count": 8,
     "metadata": {},
     "output_type": "execute_result"
    }
   ],
   "source": [
    "linspace=torch.linspace(3,10,steps=5)\n",
    "linspace"
   ]
  },
  {
   "cell_type": "code",
   "execution_count": 9,
   "id": "3d44b262-425e-4ac3-917a-c32ca5dd413e",
   "metadata": {},
   "outputs": [
    {
     "data": {
      "text/plain": [
       "tensor([1.0000e-10, 1.0000e-05, 1.0000e+00, 1.0000e+05, 1.0000e+10])"
      ]
     },
     "execution_count": 9,
     "metadata": {},
     "output_type": "execute_result"
    }
   ],
   "source": [
    "logspace=torch.logspace(start=-10, end=10, steps=5)\n",
    "logspace"
   ]
  },
  {
   "cell_type": "code",
   "execution_count": 10,
   "id": "7d2fcf67-591a-41df-a917-a24fa8f5e08e",
   "metadata": {},
   "outputs": [
    {
     "data": {
      "text/plain": [
       "tensor([[1., 0., 0., 0., 0.],\n",
       "        [0., 1., 0., 0., 0.],\n",
       "        [0., 0., 1., 0., 0.],\n",
       "        [0., 0., 0., 1., 0.],\n",
       "        [0., 0., 0., 0., 1.]])"
      ]
     },
     "execution_count": 10,
     "metadata": {},
     "output_type": "execute_result"
    }
   ],
   "source": [
    "eye=torch.eye(5)\n",
    "eye"
   ]
  },
  {
   "cell_type": "code",
   "execution_count": 12,
   "id": "55d2a1ee-14f7-4173-b4f2-59563cd87798",
   "metadata": {},
   "outputs": [
    {
     "data": {
      "text/plain": [
       "tensor([[5630869903344,             0,             0],\n",
       "        [            0,             0,             0]])"
      ]
     },
     "execution_count": 12,
     "metadata": {},
     "output_type": "execute_result"
    }
   ],
   "source": [
    "a= torch.empty((2,3),dtype=torch.int64)\n",
    "empty_like=torch.empty_like(a)\n",
    "empty_like"
   ]
  },
  {
   "cell_type": "code",
   "execution_count": 17,
   "id": "921161d0-ea26-40cd-af08-6dcbd5247ddb",
   "metadata": {},
   "outputs": [
    {
     "name": "stdout",
     "output_type": "stream",
     "text": [
      "tensor([1, 0, 1, 0, 1, 1, 1, 1, 1, 1])\n"
     ]
    }
   ],
   "source": [
    "#Define a probability tensor\n",
    "probabilities=torch.tensor([0.1,0.9])\n",
    "#10% or 0.1=> 0, 90% or 0.9=> 1, each probability points to the index of the probability in the tensor\n",
    "#Draw 5 samples from the multinomial distribution\n",
    "samples=torch.multinomial(probabilities,num_samples=10, replacement=True)\n",
    "print(samples)"
   ]
  },
  {
   "cell_type": "code",
   "execution_count": 18,
   "id": "65228bca-43d9-43f4-9da5-f223c2ccc887",
   "metadata": {},
   "outputs": [
    {
     "data": {
      "text/plain": [
       "tensor([1, 2, 3, 4, 5])"
      ]
     },
     "execution_count": 18,
     "metadata": {},
     "output_type": "execute_result"
    }
   ],
   "source": [
    "tensor=torch.tensor([1,2,3,4])\n",
    "out=torch.cat((tensor,torch.tensor([5])), dim=0)\n",
    "out"
   ]
  },
  {
   "cell_type": "code",
   "execution_count": 3,
   "id": "a0103395-f270-406e-b1ad-a87be72862fb",
   "metadata": {
    "scrolled": true
   },
   "outputs": [
    {
     "data": {
      "text/plain": [
       "tensor([[1., 0., 0., 0., 0.],\n",
       "        [1., 1., 0., 0., 0.],\n",
       "        [1., 1., 1., 0., 0.],\n",
       "        [1., 1., 1., 1., 0.],\n",
       "        [1., 1., 1., 1., 1.]])"
      ]
     },
     "execution_count": 3,
     "metadata": {},
     "output_type": "execute_result"
    }
   ],
   "source": [
    "out=torch.tril(torch.ones(5,5))\n",
    "out"
   ]
  },
  {
   "cell_type": "code",
   "execution_count": 4,
   "id": "c6058a4b-a61a-4d1f-8352-a0a8ee81a030",
   "metadata": {},
   "outputs": [
    {
     "data": {
      "text/plain": [
       "tensor([[1., 1., 1., 1., 1.],\n",
       "        [0., 1., 1., 1., 1.],\n",
       "        [0., 0., 1., 1., 1.],\n",
       "        [0., 0., 0., 1., 1.],\n",
       "        [0., 0., 0., 0., 1.]])"
      ]
     },
     "execution_count": 4,
     "metadata": {},
     "output_type": "execute_result"
    }
   ],
   "source": [
    "out=torch.triu(torch.ones(5,5))\n",
    "out"
   ]
  },
  {
   "cell_type": "code",
   "execution_count": 5,
   "id": "f2a0d541-6a42-430d-9f29-fc1f7c1dfd8a",
   "metadata": {},
   "outputs": [
    {
     "data": {
      "text/plain": [
       "tensor([[0., -inf, -inf, -inf, -inf],\n",
       "        [0., 0., -inf, -inf, -inf],\n",
       "        [0., 0., 0., -inf, -inf],\n",
       "        [0., 0., 0., 0., -inf],\n",
       "        [0., 0., 0., 0., 0.]])"
      ]
     },
     "execution_count": 5,
     "metadata": {},
     "output_type": "execute_result"
    }
   ],
   "source": [
    "out=torch.zeros(5,5).masked_fill(torch.tril(torch.ones(5,5))==0, float('-inf'))\n",
    "out"
   ]
  },
  {
   "cell_type": "code",
   "execution_count": 6,
   "id": "62770630-26a5-4004-a6a4-e9a81b76b343",
   "metadata": {},
   "outputs": [
    {
     "data": {
      "text/plain": [
       "tensor([[1., 0., 0., 0., 0.],\n",
       "        [1., 1., 0., 0., 0.],\n",
       "        [1., 1., 1., 0., 0.],\n",
       "        [1., 1., 1., 1., 0.],\n",
       "        [1., 1., 1., 1., 1.]])"
      ]
     },
     "execution_count": 6,
     "metadata": {},
     "output_type": "execute_result"
    }
   ],
   "source": [
    "torch.exp(out)"
   ]
  },
  {
   "cell_type": "code",
   "execution_count": 7,
   "id": "beb820af-04c3-4d7b-89ec-840be142bf71",
   "metadata": {},
   "outputs": [
    {
     "data": {
      "text/plain": [
       "torch.Size([4, 3, 2])"
      ]
     },
     "execution_count": 7,
     "metadata": {},
     "output_type": "execute_result"
    }
   ],
   "source": [
    "input=torch.zeros(2,3,4)\n",
    "out=input.transpose(0,2)\n",
    "out.shape"
   ]
  },
  {
   "cell_type": "code",
   "execution_count": 8,
   "id": "e727d7b9-4d2a-4dca-b50e-04bd69cd97f8",
   "metadata": {},
   "outputs": [
    {
     "data": {
      "text/plain": [
       "tensor([[1, 2, 3],\n",
       "        [4, 5, 6],\n",
       "        [7, 8, 9]])"
      ]
     },
     "execution_count": 8,
     "metadata": {},
     "output_type": "execute_result"
    }
   ],
   "source": [
    "tensor1=torch.tensor([1,2,3])\n",
    "tensor2=torch.tensor([4,5,6])\n",
    "tensor3=torch.tensor([7,8,9])\n",
    "#STACK THE TENSORS ALONG WITH A NEW DIMENSION\n",
    "stacked_tensor=torch.stack([tensor1, tensor2, tensor3])\n",
    "stacked_tensor"
   ]
  },
  {
   "cell_type": "code",
   "execution_count": 9,
   "id": "8bde87c2-6987-474b-9559-0dadf8ee55cd",
   "metadata": {},
   "outputs": [
    {
     "name": "stdout",
     "output_type": "stream",
     "text": [
      "tensor([-6.8905, 10.6466,  8.5156], grad_fn=<SqueezeBackward4>)\n"
     ]
    }
   ],
   "source": [
    "import torch.nn as nn\n",
    "sample=torch.tensor([10.,10.,10.])\n",
    "linear=nn.Linear(3,3,bias=False)\n",
    "print(linear(sample))"
   ]
  },
  {
   "cell_type": "code",
   "execution_count": 12,
   "id": "e18c24b8-49fa-4d37-8cdd-488249cc373b",
   "metadata": {},
   "outputs": [
    {
     "name": "stdout",
     "output_type": "stream",
     "text": [
      "tensor([0.0900, 0.2447, 0.6652])\n"
     ]
    }
   ],
   "source": [
    "import torch.nn.functional as F\n",
    "#Create a tensor\n",
    "tensor1=torch.tensor([1.0,2.0,3.0])\n",
    "#Apply softmax using torch.nn.functional.softmax()\n",
    "softmax_output=F.softmax(tensor1,dim=0)\n",
    "print(softmax_output)"
   ]
  },
  {
   "cell_type": "code",
   "execution_count": 15,
   "id": "09b31a2b-ae9c-4c86-b2da-a806157627f2",
   "metadata": {},
   "outputs": [
    {
     "name": "stdout",
     "output_type": "stream",
     "text": [
      "torch.Size([4, 100])\n"
     ]
    }
   ],
   "source": [
    "\n",
    "# Create an Embedding layer with 10 possible indices (e.g., words) and embedding dimension of 3\n",
    "embedding = nn.Embedding(num_embeddings=1000, embedding_dim=100)\n",
    "\n",
    "# Indices of words\n",
    "input_indices = torch.tensor([1,5,3,2])\n",
    "\n",
    "# Get the embeddings for the input indices\n",
    "embedded_output = embedding(input_indices)\n",
    "\n",
    "print(embedded_output.shape)\n"
   ]
  },
  {
   "cell_type": "code",
   "execution_count": 20,
   "id": "0ce7d0f5-dca2-4e7d-84aa-a0c3d861c379",
   "metadata": {},
   "outputs": [
    {
     "name": "stdout",
     "output_type": "stream",
     "text": [
      "tensor([[ 27,  30,  33],\n",
      "        [ 61,  68,  75],\n",
      "        [ 95, 106, 117]])\n"
     ]
    }
   ],
   "source": [
    "a=torch.tensor([[1,2],[3,4],[5,6]])\n",
    "b=torch.tensor([[7,8,9],[10,11,12]])\n",
    "print(a@b)"
   ]
  },
  {
   "cell_type": "code",
   "execution_count": 24,
   "id": "bd1bfed4-8efe-4d33-a633-aebed047747c",
   "metadata": {},
   "outputs": [
    {
     "name": "stdout",
     "output_type": "stream",
     "text": [
      "tensor([[0., 0., 0.],\n",
      "        [0., 0., 0.],\n",
      "        [0., 0., 0.]])\n"
     ]
    }
   ],
   "source": [
    "int_64=torch.randint(1,(3,2)).float()\n",
    "#type int64\n",
    "float_32=torch.rand(2,3)\n",
    "#type float32\n",
    "result=torch.matmul(int_64,float_32)\n",
    "print(result)"
   ]
  },
  {
   "cell_type": "code",
   "execution_count": 28,
   "id": "108a4899-70bd-4c9c-b6aa-58f38bfca038",
   "metadata": {},
   "outputs": [
    {
     "name": "stdout",
     "output_type": "stream",
     "text": [
      "tensor([[0.8439, 0.4524, 0.1650, 0.8630, 0.4450, 0.4017, 0.2663, 0.0658, 0.6380,\n",
      "         0.3474],\n",
      "        [0.2944, 0.8239, 0.2148, 0.0934, 0.8850, 0.3611, 0.3137, 0.4010, 0.7245,\n",
      "         0.4809],\n",
      "        [0.2102, 0.9480, 0.8437, 0.3304, 0.1703, 0.7518, 0.4217, 0.4104, 0.3668,\n",
      "         0.3932],\n",
      "        [0.2710, 0.2595, 0.3609, 0.1406, 0.4315, 0.4987, 0.1931, 0.1668, 0.2400,\n",
      "         0.0805],\n",
      "        [0.6699, 0.8658, 0.1539, 0.8139, 0.3451, 0.2158, 0.1443, 0.2564, 0.5979,\n",
      "         0.5622],\n",
      "        [0.3398, 0.8349, 0.9084, 0.1306, 0.6157, 0.7605, 0.6026, 0.2015, 0.3269,\n",
      "         0.2197],\n",
      "        [0.2573, 0.5832, 0.2869, 0.4147, 0.3523, 0.5876, 0.0676, 0.5097, 0.1407,\n",
      "         0.6584],\n",
      "        [0.9398, 0.7872, 0.5128, 0.7338, 0.6465, 0.9132, 0.7260, 0.6021, 0.6167,\n",
      "         0.7407],\n",
      "        [0.9361, 0.2616, 0.3885, 0.3823, 0.2587, 0.5880, 0.5009, 0.2453, 0.8547,\n",
      "         0.8377],\n",
      "        [0.8970, 0.3933, 0.3735, 0.5502, 0.2074, 0.0916, 0.6371, 0.3670, 0.6447,\n",
      "         0.9778],\n",
      "        [0.8314, 0.9353, 0.8229, 0.9383, 0.8900, 0.3390, 0.9377, 0.7837, 0.1887,\n",
      "         0.1733],\n",
      "        [0.4069, 0.3107, 0.9842, 0.1751, 0.1209, 0.3006, 0.6100, 0.9048, 0.2796,\n",
      "         0.5883],\n",
      "        [0.4209, 0.0659, 0.5106, 0.8576, 0.1356, 0.9765, 0.0676, 0.5924, 0.8100,\n",
      "         0.3046],\n",
      "        [0.1340, 0.2027, 0.7638, 0.7894, 0.6478, 0.1107, 0.3205, 0.9569, 0.7003,\n",
      "         0.6875],\n",
      "        [0.6033, 0.6310, 0.3586, 0.5642, 0.8004, 0.9899, 0.4260, 0.5686, 0.3553,\n",
      "         0.2008],\n",
      "        [0.3462, 0.0604, 0.6382, 0.4002, 0.4958, 0.4320, 0.9434, 0.4295, 0.3653,\n",
      "         0.9024],\n",
      "        [0.1558, 0.3851, 0.9881, 0.5349, 0.6234, 0.6882, 0.9987, 0.4439, 0.2451,\n",
      "         0.2173],\n",
      "        [0.4998, 0.9486, 0.0689, 0.1643, 0.1598, 0.3054, 0.6298, 0.9542, 0.1103,\n",
      "         0.2051],\n",
      "        [0.8093, 0.0209, 0.0190, 0.8481, 0.4942, 0.9214, 0.6929, 0.1163, 0.5388,\n",
      "         0.3021],\n",
      "        [0.4236, 0.6651, 0.2123, 0.8810, 0.8322, 0.9792, 0.6264, 0.8937, 0.3690,\n",
      "         0.3373],\n",
      "        [0.5295, 0.1595, 0.6504, 0.9880, 0.7649, 0.5405, 0.9583, 0.4821, 0.6342,\n",
      "         0.6152],\n",
      "        [0.9458, 0.5750, 0.6843, 0.2529, 0.6553, 0.1807, 0.8600, 0.8712, 0.5036,\n",
      "         0.2214],\n",
      "        [0.2822, 0.2702, 0.8117, 0.4408, 0.9713, 0.6200, 0.6778, 0.9713, 0.2717,\n",
      "         0.3241],\n",
      "        [0.7766, 0.2837, 0.1904, 0.1120, 0.8915, 0.0093, 0.3603, 0.8155, 0.3391,\n",
      "         0.6146],\n",
      "        [0.3232, 0.9382, 0.2795, 0.2781, 0.9285, 0.2786, 0.1709, 0.9153, 0.6566,\n",
      "         0.8465],\n",
      "        [0.0892, 0.8774, 0.5133, 0.5732, 0.1415, 0.7031, 0.6293, 0.4540, 0.6115,\n",
      "         0.1727],\n",
      "        [0.9400, 0.4975, 0.9852, 0.8180, 0.2620, 0.4513, 0.6202, 0.4732, 0.1525,\n",
      "         0.9628],\n",
      "        [0.4777, 0.6498, 0.5517, 0.9985, 0.5704, 0.5285, 0.3837, 0.1676, 0.1390,\n",
      "         0.4051],\n",
      "        [0.3537, 0.2294, 0.8704, 0.7334, 0.2964, 0.9772, 0.0036, 0.7799, 0.2305,\n",
      "         0.3000],\n",
      "        [0.1248, 0.7467, 0.8519, 0.8374, 0.9230, 0.4374, 0.8428, 0.3599, 0.5467,\n",
      "         0.2768],\n",
      "        [0.8928, 0.0568, 0.8531, 0.7932, 0.0138, 0.1200, 0.9858, 0.8517, 0.6268,\n",
      "         0.8841],\n",
      "        [0.9650, 0.7243, 0.9153, 0.8497, 0.7203, 0.0361, 0.0700, 0.9168, 0.1047,\n",
      "         0.9980]])\n"
     ]
    }
   ],
   "source": [
    "input=torch.rand((4,8,10))\n",
    "B,T,C=input.shape\n",
    "output=input.view(B*T, C)\n",
    "print(output)\n",
    "#print(output[:, -1, :])"
   ]
  },
  {
   "cell_type": "code",
   "execution_count": 32,
   "id": "31ed7821-b81a-4ec8-9c99-154ec01c44b8",
   "metadata": {},
   "outputs": [
    {
     "name": "stdout",
     "output_type": "stream",
     "text": [
      "tensor([1.])\n"
     ]
    }
   ],
   "source": [
    "x=torch.tensor([10], dtype=torch.float32)\n",
    "y=F.tanh(x)\n",
    "print(y)"
   ]
  }
 ],
 "metadata": {
  "kernelspec": {
   "display_name": "cuda-gpt",
   "language": "python",
   "name": "cuda"
  },
  "language_info": {
   "codemirror_mode": {
    "name": "ipython",
    "version": 3
   },
   "file_extension": ".py",
   "mimetype": "text/x-python",
   "name": "python",
   "nbconvert_exporter": "python",
   "pygments_lexer": "ipython3",
   "version": "3.10.11"
  }
 },
 "nbformat": 4,
 "nbformat_minor": 5
}
