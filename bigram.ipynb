{
 "cells": [
  {
   "cell_type": "code",
   "execution_count": 81,
   "id": "4e5c34eb-b28c-45d3-8659-59d5531ce8c7",
   "metadata": {},
   "outputs": [
    {
     "name": "stdout",
     "output_type": "stream",
     "text": [
      "cuda\n"
     ]
    }
   ],
   "source": [
    "import torch\n",
    "import torch.nn as nn\n",
    "from torch.nn import functional as F\n",
    "device='cuda' if torch.cuda.is_available() else 'cpu'\n",
    "print(device)\n",
    "block_size=8\n",
    "batch_size=4\n",
    "max_iters=10000\n",
    "#eval_interval=2500\n",
    "learning_rate=3e-4\n",
    "eval_iters=250"
   ]
  },
  {
   "cell_type": "code",
   "execution_count": 83,
   "id": "09368640-0cd8-4141-8d86-4ab9881adde3",
   "metadata": {
    "scrolled": true
   },
   "outputs": [
    {
     "name": "stdout",
     "output_type": "stream",
     "text": [
      "﻿The Project Gutenberg eBook of Needwood Forest\n",
      "    \n",
      "This ebook is for the use of anyone anywhere in the United States and\n",
      "most other parts of the world at no cost and with almost no restrictions\n",
      "what\n",
      "96\n"
     ]
    }
   ],
   "source": [
    "with open('book.txt', 'r', encoding='utf-8' ) as book:\n",
    "    text=book.read()\n",
    "    print(text[0:200])\n",
    "\n",
    "chars=sorted(set(text))\n",
    "vocab_size=len(chars)\n",
    "print(vocab_size)\n",
    "    "
   ]
  },
  {
   "cell_type": "code",
   "execution_count": 84,
   "id": "0a9dbcbf-87f4-464f-92f0-25352aa6c365",
   "metadata": {},
   "outputs": [
    {
     "name": "stdout",
     "output_type": "stream",
     "text": [
      "tensor([95, 47, 64, 61,  1, 43, 74, 71, 66, 61, 59, 76,  1, 34, 77, 76, 61, 70,\n",
      "        58, 61, 74, 63,  1, 61, 29, 71, 71, 67,  1, 71, 62,  1, 41, 61, 61, 60,\n",
      "        79, 71, 71, 60,  1, 33, 71, 74, 61, 75, 76,  0,  1,  1,  1,  1,  0, 47,\n",
      "        64, 65, 75,  1, 61, 58, 71, 71, 67,  1, 65, 75,  1, 62, 71, 74,  1, 76,\n",
      "        64, 61,  1, 77, 75, 61,  1, 71, 62,  1, 57, 70, 81, 71, 70, 61,  1, 57,\n",
      "        70, 81, 79, 64, 61, 74, 61,  1, 65, 70])\n"
     ]
    }
   ],
   "source": [
    "string_to_int={ch:i for i,ch in enumerate(chars)}\n",
    "int_to_string={i:ch for i,ch in enumerate(chars)}\n",
    "encode=lambda s:[string_to_int[c] for c in s]\n",
    "decode=lambda l:' '.join([int_to_string[i] for i in l])\n",
    "\n",
    "data = torch.tensor(encode(text),dtype=torch.long)\n",
    "print(data[ :100])\n"
   ]
  },
  {
   "cell_type": "code",
   "execution_count": 85,
   "id": "6bea58b6-ddba-447c-b4d2-bbee5389b0e4",
   "metadata": {},
   "outputs": [
    {
     "name": "stdout",
     "output_type": "stream",
     "text": [
      "inputs:\n",
      "tensor([[ 1,  1,  1,  1,  1,  1,  1, 47],\n",
      "        [74,  1, 76, 79, 71,  1, 65, 70],\n",
      "        [ 1, 74, 65, 76, 61, 75, 25,  0],\n",
      "        [65, 68, 68,  1, 75, 72, 57, 74]], device='cuda:0')\n",
      "targets:\n",
      "tensor([[ 1,  1,  1,  1,  1,  1, 47, 64],\n",
      "        [ 1, 76, 79, 71,  1, 65, 70,  1],\n",
      "        [74, 65, 76, 61, 75, 25,  0,  1],\n",
      "        [68, 68,  1, 75, 72, 57, 74, 67]], device='cuda:0')\n"
     ]
    }
   ],
   "source": [
    "n = int(0.8 * len(data))\n",
    "train_data = data[:n]\n",
    "val_data = data[n:]\n",
    "\n",
    "def get_batch(split):\n",
    "    data = train_data if split == 'train' else val_data\n",
    "    ix = torch.randint(len(data) - block_size, (batch_size,))\n",
    "    x = torch.stack([data[i:i + block_size] for i in ix])\n",
    "    y = torch.stack([data[i + 1:i + block_size + 1] for i in ix])\n",
    "    x, y = x.to(device), y.to(device)\n",
    "    return x, y\n",
    "\n",
    "x, y = get_batch('train')\n",
    "print('inputs:')\n",
    "print(x)\n",
    "print('targets:')\n",
    "print(y)"
   ]
  },
  {
   "cell_type": "code",
   "execution_count": 86,
   "id": "aef647d6-4fcd-4f6e-b168-1331a0a69b82",
   "metadata": {},
   "outputs": [],
   "source": [
    "@torch.no_grad()\n",
    "def estimate_loss():\n",
    "    out = {}\n",
    "    model.eval()\n",
    "    for split in ['train', 'val']:\n",
    "        losses = torch.zeros(eval_iters)\n",
    "        for k in range(eval_iters):\n",
    "            X, Y = get_batch(split)\n",
    "            logits, loss = model(X, Y)\n",
    "            losses[k] = loss.item()\n",
    "        out[split] = losses.mean()\n",
    "    model.train()\n",
    "    return out\n",
    "    "
   ]
  },
  {
   "cell_type": "code",
   "execution_count": 87,
   "id": "652c806f-b9e1-4a67-930d-1e5dade812d3",
   "metadata": {},
   "outputs": [
    {
     "name": "stdout",
     "output_type": "stream",
     "text": [
      "\n",
      " 2 Q m “ [ T ) r K _ E t A . X æ S G • ? ﻿ ™ , ? O ‘ K “ % _ : O N Æ M W w b — “ 9 d œ f o h N t , ! i M s ﻿ 0 c V I ﻿ y s ﻿ [ G R } P X P 5 E x [ ( T g r a . ; P x [ M D ● ” z l & 1 % x Q R : - M * 1 ’ E K ” L - } r M l N E   V / Y æ O 9   Q E e 5 B l U Q f S o ! U A R } W Q _ 6 P J % / A ? i / Æ / 7 Y ) Y 5 U [ H a a ’ f = / I y C k B . D æ ; C œ f m \n",
      " ‘ i p ( q u ﻿ k % x 3 R V _ ﻿ [ p W v L / W v m & u Æ D l • = w $ K ‘ J a R Y q ™ W D ‘ 6 æ P t p a $ ‘ ( 8 0 T 9 ? S ‘ K “ ) t e d F } R q R a I P B k & $ / Z 3 1 X } } ﻿ ﻿ z ) Æ q x G N ’ 1 A d A P - # v 1 $ } z 0 Z o 2 y ” k } 1 X K q r V l ● 9 æ N ’ ; 7 \n",
      " D & } E ; & ; 9 I Z Z ” n C h E q C ] 6 w 0 7 ! 9   R U 4 5 4 I a = / t ’ ” b k q b : # [ o ● [ P “ a   ; g 2 ) ﻿ e C ﻿ 0 X 9   U p t u ™ W [ 1 A q X ? ’ œ f t ; Æ 0 M K ” D _ — b N N • B & g C c E t U t ’ ) # O I w i M i i 4 P æ O Y ) D 2 C p L P æ S T q Z * W m ] * 1 8 R o R k p ( A q O a Æ “ ’ X [ 1 o ! g Y 1 } R 5 U 3 I w j   J $ l U 3 w J _ O æ u v N æ ( E f ﻿ z ) # 8 J 8 W 8\n"
     ]
    }
   ],
   "source": [
    "#inititialize neural network\n",
    "class BigramLanguageModel(nn.Module):\n",
    "    def __init__(self,vocab_size):\n",
    "        super().__init__() #creating an embedding table\n",
    "        self.token_embedding_table=nn.Embedding(vocab_size,vocab_size)\n",
    "\n",
    "    def forward(self,index, targets=None):\n",
    "        logits= self.token_embedding_table(index)\n",
    "\n",
    "        if targets is None:\n",
    "            loss=None\n",
    "        else:\n",
    "            B,T,C =logits.shape\n",
    "            logits=logits.view(B*T, C)#converts from 2 dimension to 1 dimension where B is batch size, T is no. of tokens in each sequence and C is vocab_size\n",
    "            targets=targets.view(B*T)\n",
    "            loss=F.cross_entropy(logits, targets)\n",
    "\n",
    "        return logits, loss\n",
    "    def generate(self, index, max_new_tokens):\n",
    "        #index is (B,T) array of indices in the current context, current context is a tensor of shape(1,1) containing a single index\n",
    "        for _ in range(max_new_tokens):\n",
    "            #get the predictions #returns logits(predictions) for the current index, index is passed to self.token_embedding_table(index), which looks up\n",
    "            #the embedding vectors for given indeces\n",
    "            #the embedding vectors are processed through the model to produce logits\n",
    "            logits, _=self.forward(index)\n",
    "            #focus only on last time step, extracts logits for the last token in the sequence, resulting in tensor of shape (B,C) where B is batch size\n",
    "            # and C is the number of classes(vocab_size)\n",
    "            logits=logits[:, -1, :] #becomes (B,C)\n",
    "            #APPLY SOFTMAX TO GET PROBABILITIES\n",
    "            probs=F.softmax(logits,dim=-1) #(B,C)\n",
    "            #sample from the distribution\n",
    "            index_next=torch.multinomial(probs, num_samples=1)#(B,1)\n",
    "            #APPEND SAMPLED INDEX TO THE RUNNING SEQUENCE\n",
    "            index=torch.cat((index,index_next), dim=1) #(B, T+1)\n",
    "        return index\n",
    "\n",
    "model= BigramLanguageModel(vocab_size)\n",
    "m=model.to(device)\n",
    "\n",
    "context=torch.zeros((1,1), dtype=torch.long, device=device)\n",
    "generated_indices= m.generate(context, max_new_tokens=500)[0].tolist()\n",
    "print(generated_chars)\n",
    "\n",
    "\n",
    "\n"
   ]
  },
  {
   "cell_type": "code",
   "execution_count": 88,
   "id": "9e3780cc-8342-4715-9c27-fdacf72abcd8",
   "metadata": {},
   "outputs": [
    {
     "name": "stdout",
     "output_type": "stream",
     "text": [
      "step: 0, train loss: 4.876, val loss: 5.101\n",
      "step: 250, train loss: 4.857, val loss: 5.052\n",
      "step: 500, train loss: 4.741, val loss: 4.994\n",
      "step: 750, train loss: 4.696, val loss: 4.949\n",
      "step: 1000, train loss: 4.619, val loss: 4.897\n",
      "step: 1250, train loss: 4.543, val loss: 4.846\n",
      "step: 1500, train loss: 4.495, val loss: 4.797\n",
      "step: 1750, train loss: 4.420, val loss: 4.739\n",
      "step: 2000, train loss: 4.375, val loss: 4.697\n",
      "step: 2250, train loss: 4.307, val loss: 4.650\n",
      "step: 2500, train loss: 4.281, val loss: 4.610\n",
      "step: 2750, train loss: 4.212, val loss: 4.549\n",
      "step: 3000, train loss: 4.136, val loss: 4.505\n",
      "step: 3250, train loss: 4.089, val loss: 4.466\n",
      "step: 3500, train loss: 4.045, val loss: 4.431\n",
      "step: 3750, train loss: 3.960, val loss: 4.395\n",
      "step: 4000, train loss: 3.930, val loss: 4.346\n",
      "step: 4250, train loss: 3.887, val loss: 4.287\n",
      "step: 4500, train loss: 3.844, val loss: 4.253\n",
      "step: 4750, train loss: 3.718, val loss: 4.236\n",
      "step: 5000, train loss: 3.717, val loss: 4.178\n",
      "step: 5250, train loss: 3.675, val loss: 4.140\n",
      "step: 5500, train loss: 3.676, val loss: 4.137\n",
      "step: 5750, train loss: 3.601, val loss: 4.046\n",
      "step: 6000, train loss: 3.576, val loss: 4.054\n",
      "step: 6250, train loss: 3.484, val loss: 4.012\n",
      "step: 6500, train loss: 3.438, val loss: 4.016\n",
      "step: 6750, train loss: 3.428, val loss: 3.967\n",
      "step: 7000, train loss: 3.426, val loss: 3.911\n",
      "step: 7250, train loss: 3.366, val loss: 3.913\n",
      "step: 7500, train loss: 3.309, val loss: 3.898\n",
      "step: 7750, train loss: 3.255, val loss: 3.841\n",
      "step: 8000, train loss: 3.273, val loss: 3.820\n",
      "step: 8250, train loss: 3.280, val loss: 3.803\n",
      "step: 8500, train loss: 3.197, val loss: 3.747\n",
      "step: 8750, train loss: 3.190, val loss: 3.745\n",
      "step: 9000, train loss: 3.112, val loss: 3.708\n",
      "step: 9250, train loss: 3.096, val loss: 3.683\n",
      "step: 9500, train loss: 3.054, val loss: 3.648\n",
      "step: 9750, train loss: 3.037, val loss: 3.666\n",
      "2.5210180282592773\n"
     ]
    }
   ],
   "source": [
    "#create a PyTorch optimizer\n",
    "optimizer = torch.optim.AdamW(model.parameters(), lr=learning_rate)\n",
    "for iter in range(max_iters):\n",
    "    if iter % eval_iters == 0:\n",
    "        losses = estimate_loss()\n",
    "        print(f\"step: {iter}, train loss: {losses['train']:.3f}, val loss: {losses['val']:.3f}\")\n",
    "    #sample batch data\n",
    "    xb, yb = get_batch('train')\n",
    "    logits, loss = model.forward(xb, yb)\n",
    "    optimizer.zero_grad(set_to_none=True)\n",
    "    loss.backward()\n",
    "    optimizer.step()\n",
    "print(loss.item())"
   ]
  },
  {
   "cell_type": "code",
   "execution_count": 66,
   "id": "38db2548-0cb0-4313-a527-75df3b70d69c",
   "metadata": {},
   "outputs": [
    {
     "name": "stdout",
     "output_type": "stream",
     "text": [
      "\n",
      " 2 Q m “ [ T ) r K _ E t A . X æ S G • ? ﻿ ™ , ? O ‘ K “ % _ : O N Æ M W w b — “ 9 d œ f o h N t , ! i M s ﻿ 0 c V I ﻿ y s ﻿ [ G R } P X P 5 E x [ ( T g r a . ; P x [ M D ● ” z l & 1 % x Q R : - M * 1 ’ E K ” L - } r M l N E   V / Y æ O 9   Q E e 5 B l U Q f S o ! U A R } W Q _ 6 P J % / A ? i / Æ / 7 Y ) Y 5 U [ H a a ’ f = / I y C k B . D æ ; C œ f m \n",
      " ‘ i p ( q u ﻿ k % x 3 R V _ ﻿ [ p W v L / W v m & u Æ D l • = w $ K ‘ J a R Y q ™ W D ‘ 6 æ P t p a $ ‘ ( 8 0 T 9 ? S ‘ K “ ) t e d F } R q R a I P B k & $ / Z 3 1 X } } ﻿ ﻿ z ) Æ q x G N ’ 1 A d A P - # v 1 $ } z 0 Z o 2 y ” k } 1 X K q r V l ● 9 æ N ’ ; 7 \n",
      " D & } E ; & ; 9 I Z Z ” n C h E q C ] 6 w 0 7 ! 9   R U 4 5 4 I a = / t ’ ” b k q b : # [ o ● [ P “ a   ; g 2 ) ﻿ e C ﻿ 0 X 9   U p t u ™ W [ 1 A q X ? ’ œ f t ; Æ 0 M K ” D _ — b N N • B & g C c E t U t ’ ) # O I w i M i i 4 P æ O Y ) D 2 C p L P æ S T q Z * W m ] * 1 8 R o R k p ( A q O a Æ “ ’ X [ 1 o ! g Y 1 } R 5 U 3 I w j   J $ l U 3 w J _ O æ u v N æ ( E f ﻿ z ) # 8 J 8 W 8\n"
     ]
    }
   ],
   "source": [
    "context=torch.zeros((1,1), dtype=torch.long, device=device)\n",
    "generated_indices= m.generate(context, max_new_tokens=500)[0].tolist()\n",
    "print(generated_chars)"
   ]
  },
  {
   "cell_type": "code",
   "execution_count": 25,
   "id": "34e5c4d9-f649-448a-baa3-2e5e959331a7",
   "metadata": {},
   "outputs": [
    {
     "name": "stdout",
     "output_type": "stream",
     "text": [
      "when input is tensor([95]) target is tensor(47)\n",
      "when input is tensor([95, 47]) target is tensor(64)\n",
      "when input is tensor([95, 47, 64]) target is tensor(61)\n",
      "when input is tensor([95, 47, 64, 61]) target is tensor(1)\n",
      "when input is tensor([95, 47, 64, 61,  1]) target is tensor(43)\n",
      "when input is tensor([95, 47, 64, 61,  1, 43]) target is tensor(74)\n",
      "when input is tensor([95, 47, 64, 61,  1, 43, 74]) target is tensor(71)\n",
      "when input is tensor([95, 47, 64, 61,  1, 43, 74, 71]) target is tensor(66)\n"
     ]
    }
   ],
   "source": [
    "x=train_data[:block_size]\n",
    "y=train_data[1:block_size+1]\n",
    "for t in range(block_size):\n",
    "    context=x[:t+1]\n",
    "    target=y[t]\n",
    "    print(\"when input is\", context, \"target is\", target)"
   ]
  },
  {
   "cell_type": "code",
   "execution_count": null,
   "id": "285e637e-d2ef-4aed-b244-a5c07a394705",
   "metadata": {},
   "outputs": [],
   "source": []
  },
  {
   "cell_type": "code",
   "execution_count": null,
   "id": "1917a1cc-e994-47ff-9a8d-31f26b159259",
   "metadata": {},
   "outputs": [],
   "source": []
  },
  {
   "cell_type": "code",
   "execution_count": null,
   "id": "1b4c9415-b5c6-4608-9dd2-6fc6993fdc38",
   "metadata": {},
   "outputs": [],
   "source": []
  },
  {
   "cell_type": "code",
   "execution_count": null,
   "id": "7f10d455-64ad-44bf-a26c-9d25f77715b6",
   "metadata": {},
   "outputs": [],
   "source": []
  },
  {
   "cell_type": "code",
   "execution_count": null,
   "id": "9cd043fc-41ab-4ff9-86b4-8f3257780ce5",
   "metadata": {},
   "outputs": [],
   "source": []
  }
 ],
 "metadata": {
  "kernelspec": {
   "display_name": "cuda-gpt",
   "language": "python",
   "name": "cuda"
  },
  "language_info": {
   "codemirror_mode": {
    "name": "ipython",
    "version": 3
   },
   "file_extension": ".py",
   "mimetype": "text/x-python",
   "name": "python",
   "nbconvert_exporter": "python",
   "pygments_lexer": "ipython3",
   "version": "3.10.11"
  }
 },
 "nbformat": 4,
 "nbformat_minor": 5
}
